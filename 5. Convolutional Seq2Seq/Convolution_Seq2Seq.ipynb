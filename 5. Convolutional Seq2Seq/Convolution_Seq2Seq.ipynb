{
 "cells": [
  {
   "cell_type": "code",
   "execution_count": 1,
   "metadata": {},
   "outputs": [],
   "source": [
    "import os\n",
    "import sys\n",
    "sys.path.append('..')"
   ]
  },
  {
   "cell_type": "code",
   "execution_count": 2,
   "metadata": {},
   "outputs": [
    {
     "name": "stdout",
     "output_type": "stream",
     "text": [
      "importing Jupyter notebook from ..\\utils\\dataset_loader.ipynb\n",
      "importing Jupyter notebook from ..\\utils\\training.ipynb\n"
     ]
    }
   ],
   "source": [
    "import import_ipynb\n",
    "from utils.dataset_loader import CreateCNNDataset\n",
    "from utils.training import CNNLearning"
   ]
  },
  {
   "cell_type": "code",
   "execution_count": 3,
   "metadata": {},
   "outputs": [],
   "source": [
    "import torch\n",
    "from torch import nn\n",
    "from torch import optim\n",
    "import torch.nn.functional as F\n",
    "\n",
    "import random\n",
    "import numpy as np\n",
    "\n",
    "from tqdm import tqdm"
   ]
  },
  {
   "cell_type": "code",
   "execution_count": 4,
   "metadata": {},
   "outputs": [],
   "source": [
    "### cpu, gpu 선택\n",
    "device = 'cuda' if torch.cuda.is_available() else 'cpu'\n",
    "\n",
    "### 불용어 사용 여부\n",
    "use_stopword = True\n",
    "\n",
    "### batch_size\n",
    "batch_size = 32"
   ]
  },
  {
   "cell_type": "code",
   "execution_count": 5,
   "metadata": {},
   "outputs": [],
   "source": [
    "### 미리 만들어둔 데이터셋을 가져옴\n",
    "dataset = CreateCNNDataset(device=device, use_stopword=use_stopword)\n",
    "\n",
    "### 데이터셋에서 iterator만 뽑아냄\n",
    "train_iterator, valid_iterator, test_iterator = dataset.get_iterator(batch_size=batch_size)"
   ]
  },
  {
   "cell_type": "code",
   "execution_count": 6,
   "metadata": {},
   "outputs": [],
   "source": [
    "class Encoder(nn.Module):\n",
    "    def __init__(self, input_dim, emb_dim, hid_dim, kernel_size, n_layers, dropout, device, max_length=100):\n",
    "        super().__init__()\n",
    "        self.device = device\n",
    "        \n",
    "        self.scale = torch.sqrt(torch.FloatTensor([0.5])).to(device)\n",
    "        \n",
    "        self.tok_embedding = nn.Embedding(input_dim, emb_dim)\n",
    "        self.pos_embedding = nn.Embedding(max_length, emb_dim)\n",
    "        \n",
    "        self.emb2hid = nn.Linear(emb_dim, hid_dim)\n",
    "        self.hid2emb = nn.Linear(hid_dim, emb_dim)\n",
    "        \n",
    "        self.conv = nn.ModuleList([nn.Conv1d(in_channels=hid_dim, out_channels=2*hid_dim,\n",
    "                                            kernel_size=kernel_size, padding=(kernel_size-1)//2) for _ in range(n_layers)])\n",
    "        \n",
    "        self.dropout = nn.Dropout(dropout)\n",
    "    \n",
    "    def forward(self, src):\n",
    "        # src = [batch_size, src_len]\n",
    "        batch_size = src.shape[0]\n",
    "        src_len = src.shape[1]\n",
    "        \n",
    "        pos = torch.arange(0, src_len).unsqueeze(0).repeat(batch_size, 1).to(self.device)\n",
    "        \n",
    "        tok_embedded = self.tok_embedding(src)\n",
    "        pos_embedded = self.pos_embedding(pos)\n",
    "        \n",
    "        embedded = self.dropout(tok_embedded + pos_embedded)\n",
    "        # embedded = [batch_size, src_len, emb_dim]\n",
    "        \n",
    "        conv_input = self.emb2hid(embedded)\n",
    "        # conv_input = [batch_size, src_len, hid_dim]\n",
    "        \n",
    "        conv_input = conv_input.permute(0, 2, 1)\n",
    "        # conv_input = [batch_size, hid_dim, src_len]\n",
    "        \n",
    "        for i, conv in enumerate(self.conv):\n",
    "            conved = conv(self.dropout(conv_input))\n",
    "            # conved = [batch_size, 2*hid_dim, src_len]\n",
    "            \n",
    "            conved = F.glu(conved, dim=1)\n",
    "            # conved = [batch_size, hid_dim, src_len]\n",
    "            \n",
    "            conved = (conved + conv_input) * self.scale\n",
    "            \n",
    "            conv_input = conved\n",
    "            \n",
    "        # conved = [batch_size, hid_dim, src)len]\n",
    "        \n",
    "        conved = self.hid2emb(conved.permute(0, 2, 1))\n",
    "        # conved = [batch_size, src_len, emb_dim]\n",
    "        \n",
    "        combined = (conved + embedded) * self.scale\n",
    "        \n",
    "        return conved, combined"
   ]
  },
  {
   "cell_type": "code",
   "execution_count": 7,
   "metadata": {},
   "outputs": [],
   "source": [
    "class Decoder(nn.Module):\n",
    "    def __init__(self, output_dim, emb_dim, hid_dim, n_layers, kernel_size, dropout, trg_pad_idx, device, max_length=100):\n",
    "        super().__init__()\n",
    "        \n",
    "        self.kernel_size = kernel_size\n",
    "        self.trg_pad_idx = trg_pad_idx\n",
    "        self.device = device\n",
    "        \n",
    "        self.scale = torch.sqrt(torch.FloatTensor([0.5])).to(device)\n",
    "        \n",
    "        self.tok_embedding = nn.Embedding(output_dim, emb_dim)\n",
    "        self.pos_embedding = nn.Embedding(max_length, emb_dim)\n",
    "        \n",
    "        self.emb2hid = nn.Linear(emb_dim, hid_dim)\n",
    "        self.hid2emb = nn.Linear(hid_dim, emb_dim)\n",
    "        \n",
    "        self.attn_hid2emb = nn.Linear(hid_dim, emb_dim)\n",
    "        self.attn_emb2hid = nn.Linear(emb_dim, hid_dim)\n",
    "        \n",
    "        self.fc_out = nn.Linear(emb_dim, output_dim)\n",
    "        \n",
    "        self.convs = nn.ModuleList([nn.Conv1d(in_channels=hid_dim, out_channels=hid_dim*2,\n",
    "                                             kernel_size=kernel_size) for _ in range(n_layers)])\n",
    "        \n",
    "        self.dropout = nn.Dropout(dropout)\n",
    "        \n",
    "        \n",
    "    def calculate_attention(self, embedded, conved, encoder_conved, encoder_combined):\n",
    "        # embedded = [batch_size, trg_len, emb_dim]\n",
    "        # conved = [batch_size, hid_dim, trg_len]\n",
    "        # encoder_conved = [batch_size, src_len, emb_dim]\n",
    "        # encoder_combined = [batch_size, src_len, emb_dim]\n",
    "        \n",
    "        conved_emb = self.attn_hid2emb(conved.permute(0, 2, 1))\n",
    "        # conved_emb = [batch_size, trg_len, emb_dim]\n",
    "        \n",
    "        combined = (conved_emb + embedded) * self.scale\n",
    "        # combined = [batch_size, trg_len, emb_dim]\n",
    "        \n",
    "        energy = torch.matmul(combined, encoder_conved.permute(0, 2, 1))\n",
    "        # energy = [batch_size, trg_len, src_len]\n",
    "        \n",
    "        attention = F.softmax(energy, dim=2)\n",
    "        # attention = [batch_size, trg_len, src_len]\n",
    "        \n",
    "        attended_encoding = torch.matmul(attention, encoder_combined)\n",
    "        # attended_encoding = [batch_size, trg_len, emb_dim]\n",
    "        \n",
    "        attended_encoding = self.attn_emb2hid(attended_encoding)\n",
    "        # attended_encoding = [batch_size, trg_len, hid_dim]\n",
    "        \n",
    "        attended_combined = (conved + attended_encoding.permute(0, 2, 1)) * self.scale\n",
    "        # attended_encoding = [batch_size, hid_dim, trg_len]\n",
    "        \n",
    "        return attention, attended_combined\n",
    "        \n",
    "        \n",
    "    def forward(self, trg, encoder_conved, encoder_combined):\n",
    "        batch_size = trg.shape[0]\n",
    "        trg_len = trg.shape[1]\n",
    "        \n",
    "        pos = torch.arange(0, trg_len).unsqueeze(0).repeat(batch_size, 1).to(self.device)\n",
    "        \n",
    "        tok_embedding = self.tok_embedding(trg)\n",
    "        pos_embedding = self.pos_embedding(pos)\n",
    "        \n",
    "        embedded = self.dropout(tok_embedding + pos_embedding)\n",
    "        # embedded = [batch_size, trg_len, emb_dim]\n",
    "        \n",
    "        conv_input = self.emb2hid(embedded)\n",
    "        # conv_input = [batch_size, trg_len, hid_dim]\n",
    "        \n",
    "        conv_input = conv_input.permute(0, 2, 1)\n",
    "        # conv_input = [batch_size, hid_dim, trg_len]\n",
    "        \n",
    "        for i, conv in enumerate(self.convs):\n",
    "            conv_input = self.dropout(conv_input)\n",
    "            \n",
    "            padding = torch.zeros(batch_size, hid_dim, self.kernel_size-1).fill_(self.trg_pad_idx).to(self.device)\n",
    "            # padding = [batch_size, hid_dim, kernel_size-1]\n",
    "            \n",
    "            padded_conv_input = torch.cat((padding, conv_input), dim=2)\n",
    "            # padded_conv_input = [batch_size, hid_dim, trg_len + kernel_size - 1]\n",
    "            \n",
    "            conved = conv(padded_conv_input)\n",
    "            # conved = [batch_size, hid_dim*2, trg_len]\n",
    "            \n",
    "            conved = F.glu(conved, dim=1)\n",
    "            # conved = [batch_size, hid_dim, trg_len]\n",
    "            \n",
    "            attention, conved = self.calculate_attention(embedded, conved, encoder_conved, encoder_combined)\n",
    "            \n",
    "            conved = (conved + conv_input) * self.scale\n",
    "            \n",
    "            conv_input = conved\n",
    "            \n",
    "        conved = self.hid2emb(conved.permute(0, 2, 1))\n",
    "        \n",
    "        output = self.fc_out(self.dropout(conved))\n",
    "        \n",
    "        return output, attention"
   ]
  },
  {
   "cell_type": "code",
   "execution_count": 8,
   "metadata": {},
   "outputs": [],
   "source": [
    "class Seq2Seq(nn.Module):\n",
    "    def __init__(self, encoder, decoder):\n",
    "        super().__init__()\n",
    "        self.encoder = encoder\n",
    "        self.decoder = decoder\n",
    "        \n",
    "    def forward(self, src, trg):\n",
    "        encoder_conved, encoder_combined = self.encoder(src)\n",
    "        \n",
    "        output, attention = self.decoder(trg, encoder_conved, encoder_combined)\n",
    "        \n",
    "        return output, attention"
   ]
  },
  {
   "cell_type": "code",
   "execution_count": 9,
   "metadata": {},
   "outputs": [],
   "source": [
    "input_dim = len(dataset.SRC.vocab)\n",
    "output_dim = len(dataset.TRG.vocab)\n",
    "emb_dim = 256\n",
    "hid_dim = 512\n",
    "kernel_size=3\n",
    "n_layers = 10\n",
    "dropout = 0.1\n",
    "trg_pad_token = dataset.TRG.vocab.stoi[dataset.TRG.pad_token]\n",
    "\n",
    "enc = Encoder(input_dim, emb_dim, hid_dim, kernel_size, n_layers, dropout, device)\n",
    "dec = Decoder(output_dim, emb_dim, hid_dim, kernel_size, n_layers, dropout, trg_pad_token, device)\n",
    "\n",
    "model = Seq2Seq(enc, dec).to(device)"
   ]
  },
  {
   "cell_type": "code",
   "execution_count": 10,
   "metadata": {},
   "outputs": [
    {
     "name": "stdout",
     "output_type": "stream",
     "text": [
      "The model has 37,344,261 trainable parameters\n"
     ]
    }
   ],
   "source": [
    "def count_parameters(model):\n",
    "    return sum(p.numel() for p in model.parameters() if p.requires_grad)\n",
    "\n",
    "print(f'The model has {count_parameters(model):,} trainable parameters')"
   ]
  },
  {
   "cell_type": "code",
   "execution_count": 11,
   "metadata": {},
   "outputs": [],
   "source": [
    "optimizer = optim.Adam(model.parameters())\n",
    "criterion = nn.CrossEntropyLoss(ignore_index=trg_pad_token)"
   ]
  },
  {
   "cell_type": "code",
   "execution_count": 12,
   "metadata": {},
   "outputs": [],
   "source": [
    "learn = CNNLearning()\n",
    "epochs = 10\n",
    "clip = 0.01"
   ]
  },
  {
   "cell_type": "code",
   "execution_count": 13,
   "metadata": {},
   "outputs": [
    {
     "name": "stderr",
     "output_type": "stream",
     "text": [
      "100%|████████████████████████████████████████████████████████████████████████████████| 907/907 [00:53<00:00, 17.05it/s]\n",
      "100%|██████████████████████████████████████████████████████████████████████████████████| 32/32 [00:00<00:00, 75.47it/s]\n",
      "  0%|                                                                                  | 1/907 [00:00<01:32,  9.76it/s]"
     ]
    },
    {
     "name": "stdout",
     "output_type": "stream",
     "text": [
      "4.181586551298249 3.7749419882893562\n"
     ]
    },
    {
     "name": "stderr",
     "output_type": "stream",
     "text": [
      "100%|████████████████████████████████████████████████████████████████████████████████| 907/907 [00:52<00:00, 17.42it/s]\n",
      "100%|██████████████████████████████████████████████████████████████████████████████████| 32/32 [00:00<00:00, 77.01it/s]\n",
      "  0%|▏                                                                                 | 2/907 [00:00<01:06, 13.51it/s]"
     ]
    },
    {
     "name": "stdout",
     "output_type": "stream",
     "text": [
      "149555.34992533296 331393.43701171875\n"
     ]
    },
    {
     "name": "stderr",
     "output_type": "stream",
     "text": [
      "100%|████████████████████████████████████████████████████████████████████████████████| 907/907 [00:52<00:00, 17.35it/s]\n",
      "100%|██████████████████████████████████████████████████████████████████████████████████| 32/32 [00:00<00:00, 77.11it/s]\n",
      "  0%|▏                                                                                 | 2/907 [00:00<01:05, 13.85it/s]"
     ]
    },
    {
     "name": "stdout",
     "output_type": "stream",
     "text": [
      "857198.0510331966 472584.21484375\n"
     ]
    },
    {
     "name": "stderr",
     "output_type": "stream",
     "text": [
      "100%|████████████████████████████████████████████████████████████████████████████████| 907/907 [00:52<00:00, 17.27it/s]\n",
      "100%|██████████████████████████████████████████████████████████████████████████████████| 32/32 [00:00<00:00, 74.79it/s]\n",
      "  0%|▏                                                                                 | 2/907 [00:00<01:04, 14.08it/s]"
     ]
    },
    {
     "name": "stdout",
     "output_type": "stream",
     "text": [
      "1088640.778640091 1005204.478515625\n"
     ]
    },
    {
     "name": "stderr",
     "output_type": "stream",
     "text": [
      "100%|████████████████████████████████████████████████████████████████████████████████| 907/907 [00:52<00:00, 17.30it/s]\n",
      "100%|██████████████████████████████████████████████████████████████████████████████████| 32/32 [00:00<00:00, 74.69it/s]\n",
      "  0%|▏                                                                                 | 2/907 [00:00<01:06, 13.70it/s]"
     ]
    },
    {
     "name": "stdout",
     "output_type": "stream",
     "text": [
      "1498336.3544135888 2322561.14453125\n"
     ]
    },
    {
     "name": "stderr",
     "output_type": "stream",
     "text": [
      "100%|████████████████████████████████████████████████████████████████████████████████| 907/907 [00:52<00:00, 17.18it/s]\n",
      "100%|██████████████████████████████████████████████████████████████████████████████████| 32/32 [00:00<00:00, 76.62it/s]\n",
      "  0%|▏                                                                                 | 2/907 [00:00<01:12, 12.49it/s]"
     ]
    },
    {
     "name": "stdout",
     "output_type": "stream",
     "text": [
      "4010289.822371141 1640880.19921875\n"
     ]
    },
    {
     "name": "stderr",
     "output_type": "stream",
     "text": [
      "100%|████████████████████████████████████████████████████████████████████████████████| 907/907 [00:52<00:00, 17.20it/s]\n",
      "100%|██████████████████████████████████████████████████████████████████████████████████| 32/32 [00:00<00:00, 75.79it/s]\n",
      "  0%|▏                                                                                 | 2/907 [00:00<01:06, 13.60it/s]"
     ]
    },
    {
     "name": "stdout",
     "output_type": "stream",
     "text": [
      "8716080.388919516 3657654.11328125\n"
     ]
    },
    {
     "name": "stderr",
     "output_type": "stream",
     "text": [
      "100%|████████████████████████████████████████████████████████████████████████████████| 907/907 [00:52<00:00, 17.25it/s]\n",
      "100%|██████████████████████████████████████████████████████████████████████████████████| 32/32 [00:00<00:00, 75.26it/s]\n",
      "  0%|▏                                                                                 | 2/907 [00:00<01:10, 12.89it/s]"
     ]
    },
    {
     "name": "stdout",
     "output_type": "stream",
     "text": [
      "3869198.411866042 582154.40234375\n"
     ]
    },
    {
     "name": "stderr",
     "output_type": "stream",
     "text": [
      "100%|████████████████████████████████████████████████████████████████████████████████| 907/907 [00:52<00:00, 17.18it/s]\n",
      "100%|██████████████████████████████████████████████████████████████████████████████████| 32/32 [00:00<00:00, 76.04it/s]\n",
      "  0%|▏                                                                                 | 2/907 [00:00<01:08, 13.24it/s]"
     ]
    },
    {
     "name": "stdout",
     "output_type": "stream",
     "text": [
      "5225498.996968026 756058.552734375\n"
     ]
    },
    {
     "name": "stderr",
     "output_type": "stream",
     "text": [
      "100%|████████████████████████████████████████████████████████████████████████████████| 907/907 [00:52<00:00, 17.16it/s]\n",
      "100%|██████████████████████████████████████████████████████████████████████████████████| 32/32 [00:00<00:00, 73.39it/s]"
     ]
    },
    {
     "name": "stdout",
     "output_type": "stream",
     "text": [
      "6026193.276116317 13317380.75\n"
     ]
    },
    {
     "name": "stderr",
     "output_type": "stream",
     "text": [
      "\n"
     ]
    }
   ],
   "source": [
    "for epoch in range(epochs):\n",
    "    model, train_loss = learn.train(model, criterion, optimizer, train_iterator, clip)\n",
    "    eval_loss = learn.evaluation(model, criterion, valid_iterator)\n",
    "    print(train_loss, eval_loss)"
   ]
  },
  {
   "cell_type": "code",
   "execution_count": null,
   "metadata": {},
   "outputs": [],
   "source": []
  }
 ],
 "metadata": {
  "kernelspec": {
   "display_name": "Python 3",
   "language": "python",
   "name": "python3"
  },
  "language_info": {
   "codemirror_mode": {
    "name": "ipython",
    "version": 3
   },
   "file_extension": ".py",
   "mimetype": "text/x-python",
   "name": "python",
   "nbconvert_exporter": "python",
   "pygments_lexer": "ipython3",
   "version": "3.7.7"
  }
 },
 "nbformat": 4,
 "nbformat_minor": 4
}
