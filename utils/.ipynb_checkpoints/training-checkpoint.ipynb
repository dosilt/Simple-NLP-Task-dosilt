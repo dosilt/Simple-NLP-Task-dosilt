{
 "cells": [
  {
   "cell_type": "code",
   "execution_count": 10,
   "metadata": {},
   "outputs": [],
   "source": [
    "import torch\n",
    "from tqdm import tqdm\n",
    "import numpy as np"
   ]
  },
  {
   "cell_type": "code",
   "execution_count": 11,
   "metadata": {},
   "outputs": [],
   "source": [
    "class Learning:\n",
    "    def __init__(self):\n",
    "        pass\n",
    "    \n",
    "    def train(self, model, criterion, optimizer, iterator, clip):\n",
    "        model.train()\n",
    "        cost = []\n",
    "        for batch in tqdm(iterator):\n",
    "            optimizer.zero_grad()\n",
    "            src = batch.src\n",
    "            trg = batch.trg\n",
    "            outputs = model(src, trg)\n",
    "\n",
    "            output_dim = outputs.shape[-1]\n",
    "\n",
    "            outputs = outputs[1:].reshape(-1, output_dim)\n",
    "            target = trg[1:].reshape(-1).long()\n",
    "            loss = criterion(outputs, target)\n",
    "\n",
    "            torch.nn.utils.clip_grad_norm_(model.parameters(), clip) ## 기울기 값이 clip 값을 초과하지 않도록 제한을 둠\n",
    "\n",
    "            cost += [loss.item()]\n",
    "            loss.backward()\n",
    "\n",
    "            optimizer.step()\n",
    "        return model, np.mean(cost)\n",
    "    \n",
    "    def evaluation(self, model, criterion, iterator):\n",
    "        model.eval()\n",
    "        cost = []\n",
    "        with torch.no_grad():\n",
    "            for batch in tqdm(iterator):\n",
    "                src = batch.src\n",
    "                trg = batch.trg\n",
    "                outputs = model(src, trg, 0)\n",
    "\n",
    "                output_dim = outputs.shape[-1]\n",
    "\n",
    "                outputs = outputs[1:].reshape(-1, output_dim)\n",
    "                target = trg[1:].reshape(-1).long()\n",
    "\n",
    "                loss = criterion(outputs, target)\n",
    "\n",
    "                cost += [loss.item()]\n",
    "\n",
    "        return np.mean(cost)"
   ]
  },
  {
   "cell_type": "code",
   "execution_count": null,
   "metadata": {},
   "outputs": [],
   "source": []
  }
 ],
 "metadata": {
  "kernelspec": {
   "display_name": "Python 3",
   "language": "python",
   "name": "python3"
  },
  "language_info": {
   "codemirror_mode": {
    "name": "ipython",
    "version": 3
   },
   "file_extension": ".py",
   "mimetype": "text/x-python",
   "name": "python",
   "nbconvert_exporter": "python",
   "pygments_lexer": "ipython3",
   "version": "3.7.7"
  }
 },
 "nbformat": 4,
 "nbformat_minor": 4
}
